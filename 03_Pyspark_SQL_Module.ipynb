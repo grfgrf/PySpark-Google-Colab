{
  "nbformat": 4,
  "nbformat_minor": 0,
  "metadata": {
    "colab": {
      "name": "03 Pyspark - SQL Module .ipynb",
      "provenance": [],
      "collapsed_sections": [],
      "toc_visible": true,
      "include_colab_link": true
    },
    "kernelspec": {
      "name": "python3",
      "display_name": "Python 3"
    }
  },
  "cells": [
    {
      "cell_type": "markdown",
      "metadata": {
        "id": "view-in-github",
        "colab_type": "text"
      },
      "source": [
        "<a href=\"https://colab.research.google.com/github/grfgrf/PySpark-Google-Colab/blob/main/03_Pyspark_SQL_Module.ipynb\" target=\"_parent\"><img src=\"https://colab.research.google.com/assets/colab-badge.svg\" alt=\"Open In Colab\"/></a>"
      ]
    },
    {
      "cell_type": "markdown",
      "metadata": {
        "id": "z91iSn39PQnv"
      },
      "source": [
        "#Download/instalação dependências Spark/Pyspark\n",
        "*primeira run aprox 60segundos\n",
        "\n",
        "1.   apt-get openjdk-8-jdk-headless\n",
        "2.   download spark-3.2.0-bin-hadoop3.2.tgz\n",
        "3.   unzip spark-3.2.0-bin-hadoop3.2    \n",
        "4.   pip install findspark (pyspark)\n",
        "5.   set JAVA_HOME e SPARK_HOME paths\n",
        "6.   cria variavel \"spark\" como sparkSession\n",
        "\n"
      ]
    },
    {
      "cell_type": "code",
      "metadata": {
        "id": "cp6i4txWWMw-"
      },
      "source": [
        "%%bash\n",
        "#***IFs apenas para o notebook não executar novamente em caso de run all cells.\n",
        "\n",
        "#verifica se openjdk está instalado\n",
        "if ! (dpkg -l | grep -qw openjdk-8-jdk-headless) then \n",
        "  apt-get install openjdk-8-jdk-headless -qq > /dev/null #| echo \"openjdk-8-jdk-headless - instalado com sucesso\" \n",
        "fi"
      ],
      "execution_count": 1,
      "outputs": []
    },
    {
      "cell_type": "code",
      "metadata": {
        "id": "sKWPErew7HHg"
      },
      "source": [
        "%%bash\n",
        "#download spark-hadoop\n",
        "if ! [ -f \"spark-3.2.0-bin-hadoop3.2.tgz\" ]; then\n",
        "  wget -q  https://archive.apache.org/dist/spark/spark-3.2.0/spark-3.2.0-bin-hadoop3.2.tgz #| echo \"spark-3.2.0-bin-hadoop3.2.tgz - baixado com sucesso\"\n",
        "fi"
      ],
      "execution_count": 2,
      "outputs": []
    },
    {
      "cell_type": "code",
      "metadata": {
        "id": "_lnOz9fC7HQ2"
      },
      "source": [
        "%%bash\n",
        "#extrair spark-hadoop\n",
        "if ! [ -d \"spark-3.2.0-bin-hadoop3.2\" ]; then\n",
        "  tar xf spark-3.2.0-bin-hadoop3.2.tgz #| echo \"spark-3.2.0-bin-hadoop3.2.tgz - descompactado com sucesso\"\n",
        "fi"
      ],
      "execution_count": 3,
      "outputs": []
    },
    {
      "cell_type": "code",
      "metadata": {
        "id": "Ht_iWNwOPqrt"
      },
      "source": [
        "#usa folder do spark como lib pyspark\n",
        "try:\n",
        "    findspark\n",
        "except NameError:\n",
        "    !pip install -q findspark\n",
        "    import findspark\n",
        "    findspark.init('spark-3.2.0-bin-hadoop3.2')\n",
        "    #print(\"findspark - instalado com sucesso \")\n",
        "#else:\n",
        "    #print(\"já instalado - findspark\")"
      ],
      "execution_count": 4,
      "outputs": []
    },
    {
      "cell_type": "code",
      "metadata": {
        "id": "PWvBZvULP8bV"
      },
      "source": [
        "import os\n",
        "\n",
        "os.environ[\"JAVA_HOME\"] = \"/usr/lib/jvm/java-8-openjdk-amd64\"\n",
        "os.environ[\"SPARK_HOME\"] = \"/content/spark-3.2.0-bin-hadoop3.2\""
      ],
      "execution_count": 5,
      "outputs": []
    },
    {
      "cell_type": "code",
      "metadata": {
        "id": "IcDnw-MsFiQU"
      },
      "source": [
        "#cria spark session\n",
        "from pyspark.sql import SparkSession\n",
        "spark = SparkSession.builder.master('local[*]').getOrCreate()"
      ],
      "execution_count": 6,
      "outputs": []
    },
    {
      "cell_type": "code",
      "metadata": {
        "id": "lRTK2F4Umct_"
      },
      "source": [
        "from pyspark.sql.types import *#StrucktType StructField IntegerType StringType BooleanType\n",
        "lista=[(1,'a',None),(2,'b',True),(3,'C',False),(2,'d',True),(2,'b',True)]\n",
        "\n",
        "dfschema = StructType([\n",
        "       StructField(\"Col_numero\", IntegerType(), False),\n",
        "       StructField(\"Col_letra\", StringType(), False),\n",
        "       StructField(\"Col_booleano\",BooleanType(), True)\n",
        "       ])\n",
        "# Tipo do dado será wrapado em pyspark.sql.types.StructType\n",
        "# caso não seja usado explicitamente\n",
        "\n",
        "# Cria DataFrame\n",
        "df = spark.createDataFrame(lista, dfschema)\n",
        "df3 = df2 = df"
      ],
      "execution_count": 81,
      "outputs": []
    },
    {
      "cell_type": "markdown",
      "metadata": {
        "id": "YJsnIt1miFbF"
      },
      "source": [
        "# DataFrame(jdf, sql_ctx)\n",
        "\t\n",
        "\n",
        "A distributed collection of data grouped into named columns."
      ]
    },
    {
      "cell_type": "code",
      "metadata": {
        "colab": {
          "base_uri": "https://localhost:8080/"
        },
        "id": "vOiPUmxSnjDf",
        "outputId": "d6ab9174-5a25-49ff-89c1-1b52b7324817"
      },
      "source": [
        "df.collect()"
      ],
      "execution_count": 73,
      "outputs": [
        {
          "output_type": "execute_result",
          "data": {
            "text/plain": [
              "[Row(Col_numero=1, Col_letra='a', Col_booleano=None),\n",
              " Row(Col_numero=2, Col_letra='b', Col_booleano=True),\n",
              " Row(Col_numero=3, Col_letra='C', Col_booleano=False),\n",
              " Row(Col_numero=2, Col_letra='d', Col_booleano=True),\n",
              " Row(Col_numero=2, Col_letra='b', Col_booleano=True)]"
            ]
          },
          "metadata": {},
          "execution_count": 73
        }
      ]
    },
    {
      "cell_type": "code",
      "metadata": {
        "colab": {
          "base_uri": "https://localhost:8080/"
        },
        "id": "_EWSX9xknn9p",
        "outputId": "f439b14f-0ab2-4f3f-c995-907caa15b78f"
      },
      "source": [
        "df.columns"
      ],
      "execution_count": 74,
      "outputs": [
        {
          "output_type": "execute_result",
          "data": {
            "text/plain": [
              "['Col_numero', 'Col_letra', 'Col_booleano']"
            ]
          },
          "metadata": {},
          "execution_count": 74
        }
      ]
    },
    {
      "cell_type": "code",
      "metadata": {
        "colab": {
          "base_uri": "https://localhost:8080/"
        },
        "id": "tk4EmLrLnqkH",
        "outputId": "da1321db-0d7d-4def-9fef-965708785886"
      },
      "source": [
        "df.count()"
      ],
      "execution_count": 75,
      "outputs": [
        {
          "output_type": "execute_result",
          "data": {
            "text/plain": [
              "5"
            ]
          },
          "metadata": {},
          "execution_count": 75
        }
      ]
    },
    {
      "cell_type": "code",
      "metadata": {
        "colab": {
          "base_uri": "https://localhost:8080/"
        },
        "id": "A2JDiJyloUSS",
        "outputId": "e7c4b93d-8194-4533-8aef-315f6e95c218"
      },
      "source": [
        "dfdistinct = df.distinct()\n",
        "dfdistinct.count()"
      ],
      "execution_count": 76,
      "outputs": [
        {
          "output_type": "execute_result",
          "data": {
            "text/plain": [
              "4"
            ]
          },
          "metadata": {},
          "execution_count": 76
        }
      ]
    },
    {
      "cell_type": "code",
      "metadata": {
        "colab": {
          "base_uri": "https://localhost:8080/"
        },
        "id": "SV-xN_3QpKEE",
        "outputId": "d3d6a50d-bd45-470f-ab9d-8247c21ab7df"
      },
      "source": [
        "df.dropna(how='any').orderBy('Col_numero',ascending=False).show()"
      ],
      "execution_count": 77,
      "outputs": [
        {
          "output_type": "stream",
          "name": "stdout",
          "text": [
            "+----------+---------+------------+\n",
            "|Col_numero|Col_letra|Col_booleano|\n",
            "+----------+---------+------------+\n",
            "|         3|        C|       false|\n",
            "|         2|        d|        true|\n",
            "|         2|        b|        true|\n",
            "|         2|        b|        true|\n",
            "+----------+---------+------------+\n",
            "\n"
          ]
        }
      ]
    },
    {
      "cell_type": "code",
      "metadata": {
        "colab": {
          "base_uri": "https://localhost:8080/"
        },
        "id": "xv3AHddMqZS6",
        "outputId": "e24591d8-302e-451a-bd5c-be5b89dc1e17"
      },
      "source": [
        "df.fillna(False,'Col_booleano').show()"
      ],
      "execution_count": 78,
      "outputs": [
        {
          "output_type": "stream",
          "name": "stdout",
          "text": [
            "+----------+---------+------------+\n",
            "|Col_numero|Col_letra|Col_booleano|\n",
            "+----------+---------+------------+\n",
            "|         1|        a|       false|\n",
            "|         2|        b|        true|\n",
            "|         3|        C|       false|\n",
            "|         2|        d|        true|\n",
            "|         2|        b|        true|\n",
            "+----------+---------+------------+\n",
            "\n"
          ]
        }
      ]
    },
    {
      "cell_type": "code",
      "metadata": {
        "id": "_oOgdzyK4Uxd",
        "colab": {
          "base_uri": "https://localhost:8080/"
        },
        "outputId": "24d8cf3a-f6ce-4515-8eab-2492cdf6d27b"
      },
      "source": [
        "from pyspark.sql.functions import column\n",
        "df.select('Col_numero', \n",
        "          df['Col_numero'], \n",
        "          df.Col_numero,\n",
        "          column('Col_numero')\n",
        "         ).show()"
      ],
      "execution_count": 79,
      "outputs": [
        {
          "output_type": "stream",
          "name": "stdout",
          "text": [
            "+----------+----------+----------+----------+\n",
            "|Col_numero|Col_numero|Col_numero|Col_numero|\n",
            "+----------+----------+----------+----------+\n",
            "|         1|         1|         1|         1|\n",
            "|         2|         2|         2|         2|\n",
            "|         3|         3|         3|         3|\n",
            "|         2|         2|         2|         2|\n",
            "|         2|         2|         2|         2|\n",
            "+----------+----------+----------+----------+\n",
            "\n"
          ]
        }
      ]
    },
    {
      "cell_type": "code",
      "metadata": {
        "id": "JJDX7F2q4U2_",
        "colab": {
          "base_uri": "https://localhost:8080/"
        },
        "outputId": "db0c0e61-eed9-487f-a16b-a1113f013951"
      },
      "source": [
        "df.replace(False,True).show()"
      ],
      "execution_count": 80,
      "outputs": [
        {
          "output_type": "stream",
          "name": "stdout",
          "text": [
            "+----------+---------+------------+\n",
            "|Col_numero|Col_letra|Col_booleano|\n",
            "+----------+---------+------------+\n",
            "|         1|        a|        null|\n",
            "|         2|        b|        true|\n",
            "|         3|        C|        true|\n",
            "|         2|        d|        true|\n",
            "|         2|        b|        true|\n",
            "+----------+---------+------------+\n",
            "\n"
          ]
        }
      ]
    },
    {
      "cell_type": "markdown",
      "metadata": {
        "id": "xSsjbL9ciF28"
      },
      "source": [
        "# Column(jc)\n",
        "\t\n",
        "\n",
        "A column in a DataFrame."
      ]
    },
    {
      "cell_type": "code",
      "metadata": {
        "colab": {
          "base_uri": "https://localhost:8080/"
        },
        "id": "vMP0yAyS21CT",
        "outputId": "ed3cdb06-5d4f-4c92-a02c-5182cfd30284"
      },
      "source": [
        "#Column.astype() / cast()\n",
        "lista = df.select(df['Col_numero'] ,#original int\n",
        "                  df['Col_numero'].astype(\"string\")\n",
        "                 ).collect()[0]\n",
        "\n",
        "print( type(lista[0]) , type(lista[1]) )"
      ],
      "execution_count": 16,
      "outputs": [
        {
          "output_type": "stream",
          "name": "stdout",
          "text": [
            "<class 'int'> <class 'str'>\n"
          ]
        }
      ]
    },
    {
      "cell_type": "code",
      "metadata": {
        "colab": {
          "base_uri": "https://localhost:8080/"
        },
        "id": "_8i084rzEiRX",
        "outputId": "7837c68c-b210-4e56-e358-d0428b244d3e"
      },
      "source": [
        "# Column.desc_nulls_first()/ .asc_nulls_last()\n",
        "df.select('Col_booleano').orderBy(df['Col_booleano'].asc_nulls_last()).collect()"
      ],
      "execution_count": 17,
      "outputs": [
        {
          "output_type": "execute_result",
          "data": {
            "text/plain": [
              "[Row(Col_booleano=False),\n",
              " Row(Col_booleano=True),\n",
              " Row(Col_booleano=True),\n",
              " Row(Col_booleano=True),\n",
              " Row(Col_booleano=None)]"
            ]
          },
          "metadata": {},
          "execution_count": 17
        }
      ]
    },
    {
      "cell_type": "code",
      "metadata": {
        "colab": {
          "base_uri": "https://localhost:8080/"
        },
        "id": "ZZx8YNVedQJA",
        "outputId": "6ec095ea-16ed-4a27-da74-fd831095b0e3"
      },
      "source": [
        "df.withColumn('Col_nova', df['Col_numero'] * df['Col_numero']).show()"
      ],
      "execution_count": 181,
      "outputs": [
        {
          "output_type": "stream",
          "name": "stdout",
          "text": [
            "+----------+---------+------------+--------+\n",
            "|Col_numero|Col_letra|Col_booleano|Col_nova|\n",
            "+----------+---------+------------+--------+\n",
            "|         1|        a|        null|       1|\n",
            "|         2|        b|        true|       4|\n",
            "|         3|        C|       false|       9|\n",
            "|         2|        d|        true|       4|\n",
            "|         2|        b|        true|       4|\n",
            "+----------+---------+------------+--------+\n",
            "\n"
          ]
        }
      ]
    },
    {
      "cell_type": "markdown",
      "metadata": {
        "id": "tzF4b5QIiGit"
      },
      "source": [
        "# GroupedData(jgd, df)\n",
        "\t\n",
        "\n",
        "A set of methods for aggregations on a DataFrame, created by DataFrame.groupBy()."
      ]
    },
    {
      "cell_type": "code",
      "metadata": {
        "colab": {
          "base_uri": "https://localhost:8080/"
        },
        "id": "fKbwdoTH3S6y",
        "outputId": "1493380c-de5d-40b3-b614-f6438e11b779"
      },
      "source": [
        "from pyspark.sql.functions import column\n",
        "#  SELECT Col_boolean, COUNT(*) \n",
        "#    FROM df \n",
        "#GROUP BY Col_boolean \n",
        "#  HAVING COUNT(*) > 1\n",
        "\n",
        "dfagg =df.groupBy('Col_booleano').count().where(column('count') > 1)\n",
        "dfagg.show()\n",
        "\n",
        "\n",
        "#from pyspark.sql.functions import count # count\n",
        "#df.groupBy('Col_booleano').agg(count('Col_booleano').alias('count')).filter(column('count')>1).show()"
      ],
      "execution_count": 19,
      "outputs": [
        {
          "output_type": "stream",
          "name": "stdout",
          "text": [
            "+------------+-----+\n",
            "|Col_booleano|count|\n",
            "+------------+-----+\n",
            "|        true|    3|\n",
            "+------------+-----+\n",
            "\n"
          ]
        }
      ]
    },
    {
      "cell_type": "code",
      "metadata": {
        "colab": {
          "base_uri": "https://localhost:8080/"
        },
        "id": "TJ2OGnmW3Ukp",
        "outputId": "19cec213-ad04-4b8e-86d9-e36d057e9380"
      },
      "source": [
        "#   SELECT df1.col_numero, df2.count\n",
        "#     FROM df1\n",
        "#LEFT JOIN df2\n",
        "#       ON df1.col_numero = df2.count  \n",
        "\n",
        "df.join(dfagg ,on = df['Col_numero'] == dfagg['count'], how = 'left') \\\n",
        "  .select('Col_numero','count').show()"
      ],
      "execution_count": 20,
      "outputs": [
        {
          "output_type": "stream",
          "name": "stdout",
          "text": [
            "+----------+-----+\n",
            "|Col_numero|count|\n",
            "+----------+-----+\n",
            "|         1| null|\n",
            "|         2| null|\n",
            "|         3|    3|\n",
            "|         2| null|\n",
            "|         2| null|\n",
            "+----------+-----+\n",
            "\n"
          ]
        }
      ]
    },
    {
      "cell_type": "code",
      "metadata": {
        "colab": {
          "base_uri": "https://localhost:8080/"
        },
        "id": "8kY_jcvm5PAn",
        "outputId": "f5c06979-de18-4177-9720-7478d70563ec"
      },
      "source": [
        "#  SELECT Col_numero, count(*)\n",
        "#    FROM tabela\n",
        "#GROUP BY CUBE(Col_numero)  \n",
        "df.cube('Col_numero').count().show()"
      ],
      "execution_count": 21,
      "outputs": [
        {
          "output_type": "stream",
          "name": "stdout",
          "text": [
            "+----------+-----+\n",
            "|Col_numero|count|\n",
            "+----------+-----+\n",
            "|         1|    1|\n",
            "|         2|    3|\n",
            "|         3|    1|\n",
            "|      null|    5|\n",
            "+----------+-----+\n",
            "\n"
          ]
        }
      ]
    },
    {
      "cell_type": "code",
      "metadata": {
        "colab": {
          "base_uri": "https://localhost:8080/"
        },
        "id": "9Koft-oMxDf4",
        "outputId": "ee253cf8-9acd-4dce-b390-785108fa9897"
      },
      "source": [
        "#  SELECT * \n",
        "#    FROM tabela1\n",
        "#    JOIN tabela1\n",
        "#   USING (Col_numero,Col_letra)\n",
        "\n",
        "using_clause = ['Col_numero','Col_letra']\n",
        "\n",
        "#Join ON  coluna que tem null ignora a row*\n",
        "df.join(df ,using_clause).distinct().show()\n",
        "\n"
      ],
      "execution_count": 180,
      "outputs": [
        {
          "output_type": "stream",
          "name": "stdout",
          "text": [
            "+----------+---------+------------+------------+\n",
            "|Col_numero|Col_letra|Col_booleano|Col_booleano|\n",
            "+----------+---------+------------+------------+\n",
            "|         1|        a|        null|        null|\n",
            "|         2|        b|        true|        true|\n",
            "|         2|        d|        true|        true|\n",
            "|         3|        C|       false|       false|\n",
            "+----------+---------+------------+------------+\n",
            "\n"
          ]
        }
      ]
    },
    {
      "cell_type": "markdown",
      "metadata": {
        "id": "ln1QD29fiG19"
      },
      "source": [
        "# pyspark.sql.functions e outros"
      ]
    },
    {
      "cell_type": "code",
      "metadata": {
        "colab": {
          "base_uri": "https://localhost:8080/"
        },
        "id": "c_eJMQYPu0zF",
        "outputId": "215d6e78-1115-4d59-c041-b626d4ed11fc"
      },
      "source": [
        "from pyspark.sql.functions import col\n",
        "#renomeia colunas 1\n",
        "df.select(*(col(x).alias('DF1_' + x) for x in df.columns)).show()"
      ],
      "execution_count": 182,
      "outputs": [
        {
          "output_type": "stream",
          "name": "stdout",
          "text": [
            "+--------------+-------------+----------------+\n",
            "|DF1_Col_numero|DF1_Col_letra|DF1_Col_booleano|\n",
            "+--------------+-------------+----------------+\n",
            "|             1|            a|            null|\n",
            "|             2|            b|            true|\n",
            "|             3|            C|           false|\n",
            "|             2|            d|            true|\n",
            "|             2|            b|            true|\n",
            "+--------------+-------------+----------------+\n",
            "\n"
          ]
        }
      ]
    },
    {
      "cell_type": "code",
      "metadata": {
        "colab": {
          "base_uri": "https://localhost:8080/"
        },
        "id": "qr4RWeDr7e_3",
        "outputId": "51fd0e9c-aabd-41aa-cc93-7276d7770726"
      },
      "source": [
        "#renomeia colunas 2\n",
        "df.selectExpr([nomecoluna + ' as DF1_' + nomecoluna for nomecoluna in df.columns]).show()"
      ],
      "execution_count": 173,
      "outputs": [
        {
          "output_type": "stream",
          "name": "stdout",
          "text": [
            "+--------------+-------------+----------------+\n",
            "|DF1_Col_numero|DF1_Col_letra|DF1_Col_booleano|\n",
            "+--------------+-------------+----------------+\n",
            "|             1|            a|            null|\n",
            "|             2|            b|            true|\n",
            "|             3|            C|           false|\n",
            "|             2|            d|            true|\n",
            "|             2|            b|            true|\n",
            "+--------------+-------------+----------------+\n",
            "\n"
          ]
        }
      ]
    }
  ]
}